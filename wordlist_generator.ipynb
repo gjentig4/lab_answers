{
 "cells": [
  {
   "cell_type": "markdown",
   "metadata": {},
   "source": [
    "# Date wordlist generator\n",
    "\n",
    "This script will generate all the dates from 1920 to 2024. It will then put it on a .txt file in both MMDDYYYY and DDMMYYYY format."
   ]
  },
  {
   "cell_type": "code",
   "execution_count": 10,
   "metadata": {},
   "outputs": [
    {
     "name": "stdout",
     "output_type": "stream",
     "text": [
      "Wordlist for DDMMYYYY and MMDDYYYY formats generated successfully.\n"
     ]
    }
   ],
   "source": [
    "from datetime import datetime, timedelta\n",
    "\n",
    "# Define the start and end dates for the range\n",
    "start_date = datetime(1920, 1, 1)\n",
    "end_date = datetime(2024, 12, 31)\n",
    "\n",
    "with open(\"dates_1920_2024_wordlist.txt\", \"w\") as file:\n",
    "    current_date = start_date\n",
    "    while current_date <= end_date:\n",
    "        # Write the  date to the file in DDMMYYYY format\n",
    "        file.write(current_date.strftime('%d%m%Y') + \"\\n\")\n",
    "        # Move to the next day\n",
    "        current_date += timedelta(days=1)\n",
    "\n",
    "    # Reset the current_date to start_date for MMDDYYYY format\n",
    "    current_date = start_date\n",
    "    # Now append the MMDDYYYY formatted dates\n",
    "    while current_date <= end_date:\n",
    "        # Write the date to the file in MMDDYYYY format\n",
    "        file.write(current_date.strftime('%m%d%Y') + \"\\n\")\n",
    "        current_date += timedelta(days=1)\n",
    "\n",
    "print(\"Wordlist for DDMMYYYY and MMDDYYYY formats generated successfully.\")\n"
   ]
  },
  {
   "cell_type": "markdown",
   "metadata": {},
   "source": [
    "## Remove duplicates\n",
    "\n",
    "The following code is just to remove duplicates. Although in our case it doesnt matter since the file is under 1mb, it's still good practice to do so."
   ]
  },
  {
   "cell_type": "code",
   "execution_count": 12,
   "metadata": {},
   "outputs": [
    {
     "name": "stdout",
     "output_type": "stream",
     "text": [
      "Duplicates removed successfully.\n"
     ]
    }
   ],
   "source": [
    "\n",
    "# Path to your file\n",
    "file_path = \"dates_1920_2024_wordlist.txt\"\n",
    "\n",
    "# Read the file and remove duplicates\n",
    "with open(file_path, 'r') as file:\n",
    "    unique_lines = set(file.readlines())\n",
    "\n",
    "# Write the unique lines back to the file\n",
    "with open(file_path, 'w') as file:\n",
    "    file.writelines(unique_lines)\n",
    "\n",
    "print(\"Duplicates removed successfully.\")\n"
   ]
  }
 ],
 "metadata": {
  "kernelspec": {
   "display_name": "Python 3",
   "language": "python",
   "name": "python3"
  },
  "language_info": {
   "codemirror_mode": {
    "name": "ipython",
    "version": 3
   },
   "file_extension": ".py",
   "mimetype": "text/x-python",
   "name": "python",
   "nbconvert_exporter": "python",
   "pygments_lexer": "ipython3",
   "version": "3.11.2"
  }
 },
 "nbformat": 4,
 "nbformat_minor": 2
}
